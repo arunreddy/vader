{
 "cells": [
  {
   "cell_type": "code",
   "execution_count": 1,
   "metadata": {},
   "outputs": [],
   "source": [
    "from __future__ import print_function\n",
    "import os\n",
    "import cv2\n",
    "import time\n",
    "import json\n",
    "import pickle\n",
    "import pandas as pd\n",
    "import scipy.io as sio\n",
    "import scipy.stats as stats\n",
    "import matplotlib.pyplot as plt\n",
    "import numpy as np"
   ]
  },
  {
   "cell_type": "code",
   "execution_count": 147,
   "metadata": {},
   "outputs": [],
   "source": [
    "def entropy(exp): # entropy of the explanation\n",
    "    if exp.ndim == 2: # 2-d explanation. e.g. image explanation\n",
    "        exp_vec = [item for exp_list in exp for item in exp_list]\n",
    "    else:  # 1-d explanation. e.g., text explanation\n",
    "        exp_vec = exp\n",
    "    \n",
    "    exp_vec = np.array(exp_vec)\n",
    "    num_entries = exp_vec.size\n",
    "    entropy_max = stats.entropy(np.ones(num_entries) / num_entries)\n",
    "    if sum(exp_vec) == 0:\n",
    "        exp_entropy = entropy_max\n",
    "    else:\n",
    "        exp_entropy = stats.entropy(exp_vec)\n",
    "    \n",
    "    return exp_entropy, entropy_max\n",
    "\n",
    "def difficulty(exp): # intepretable difficulty of an explanation\n",
    "    exp_entropy, entropy_max = entropy(exp)\n",
    "    return np.exp((exp_entropy - entropy_max)/entropy_max)\n",
    "\n",
    "def lr_reweight(exp):\n",
    "    return 1/difficulty(exp)"
   ]
  },
  {
   "cell_type": "markdown",
   "metadata": {},
   "source": [
    "# illustrate the learning rate reweight on CAT"
   ]
  },
  {
   "cell_type": "code",
   "execution_count": 148,
   "metadata": {},
   "outputs": [
    {
     "name": "stdout",
     "output_type": "stream",
     "text": [
      "0 -th item is: 62PRESG3JZU8COX5TK47Q1ABVNFD90MYWILH_0003_domestic_heatmap.png \n",
      " it has entropy of: 9.985044488504501 , difficulty of: 0.9254746956577711 , reweight of 1.0805265715982229 \n",
      "\n",
      "1 -th item is: KT9ANEOFGJ310754CRL86VSYZQDWUH2BMPXI_0005_domestic_heatmap.png \n",
      " it has entropy of: 7.675790438994747 , difficulty of: 0.7476590949820608 , reweight of 1.3375079721647656 \n",
      "\n",
      "2 -th item is: K1ZWQLMO259C0HAVRFIB4US6D83GN7YEXTPJ_0006_domestic_heatmap.png \n",
      " it has entropy of: 9.533485376075236 , difficulty of: 0.8876572957056577 , reweight of 1.1265608978125208 \n",
      "\n",
      "3 -th item is: ATYRM7L49XWEQPSUOK20VGDBZ86H3JI1FC5N_0007_domestic_heatmap.png \n",
      " it has entropy of: 8.658479456494614 , difficulty of: 0.8187190866593081 , reweight of 1.221420162659684 \n",
      "\n",
      "4 -th item is: QBW7VXRO1L0J9UMFGP5IHY48SDEK3N6TAZ2C_0012_domestic_heatmap.png \n",
      " it has entropy of: 10.471291992451786 , difficulty of: 0.9680007058990696 , reweight of 1.0330570978987146 \n",
      "\n"
     ]
    }
   ],
   "source": [
    "# get the metadata\n",
    "meta_path = \"C:\\\\Users\\\\yzhou174\\\\Dropbox (ASU)\\\\research\\\\KDD2019\\\\\" + \\\n",
    "            \"split_animal_dataset_SDM\\\\nameMapping_fullInfo_flipped0.2.mat\"\n",
    "data = sio.loadmat(meta_path)['nameMapping']\n",
    "rows = []\n",
    "for d in data:\n",
    "    rows.append([x[0] for x in d.tolist()])\n",
    "df = pd.DataFrame(rows, columns=['img_name','common_name','dataset','train_test','class','is_flipped'])\n",
    "\n",
    "# get the explanation of images\n",
    "datasets = df['dataset'].tolist()\n",
    "index_cat = [i for i,s in enumerate(datasets) if s == 'cat']\n",
    "filenames = df['common_name'].tolist()\n",
    "filenames_cat = [filenames[i] for i in index_cat]\n",
    "exp_path = \"C:\\\\Users\\\\yzhou174\\\\Dropbox (ASU)\\\\research\\\\KDD2019\\\\\" + \\\n",
    "            \"gradcam-kazuto1011-notebook\\\\results_resnet34_cat_flipped0.2\\\\results_all\\\\\"\n",
    "pred_class = \"domestic\"\n",
    "\n",
    "# calculate the learning rate reweight\n",
    "for idx, filename in enumerate(filenames_cat):\n",
    "    if idx >= 5:\n",
    "        break\n",
    "    expname = filename + \"_\" + pred_class + \"_heatmap.png\"\n",
    "    exp = cv2.imread(exp_path + expname, 0)\n",
    "    \n",
    "    print(idx,'-th item is:', expname, '\\n',\n",
    "          'it has entropy of:', entropy(exp)[0], \n",
    "          ', difficulty of:', difficulty(exp), \n",
    "          ', reweight of', lr_reweight(exp) , '\\n')"
   ]
  },
  {
   "cell_type": "markdown",
   "metadata": {},
   "source": [
    "# illustrate the learning rate reweight on comp.vs.sci"
   ]
  },
  {
   "cell_type": "code",
   "execution_count": 126,
   "metadata": {},
   "outputs": [],
   "source": [
    "from lime.lime_text import LimeTextExplainer\n",
    "# get the explanation of text\n",
    "exp_path = \"C:\\\\Users\\\\yzhou174\\\\Dropbox (ASU)\\\\research\\\\KDD2019\\\\lime\\\\data_kdd19\\\\explaination_train_flipped0.2.pickle\"\n",
    "exp_text = pickle.load( open(exp_path, \"rb\" ) )\n"
   ]
  },
  {
   "cell_type": "code",
   "execution_count": 149,
   "metadata": {},
   "outputs": [
    {
     "name": "stdout",
     "output_type": "stream",
     "text": [
      "max entropy is: 4.709530201312335\n",
      "0 -th item is: placeholder \n",
      " it has entropy of: 3.5867194746215314 , difficulty of: 0.7878776483609399 , reweight of 1.269232604935993 \n",
      "\n",
      "1 -th item is: placeholder \n",
      " it has entropy of: 2.8893494768318813 , difficulty of: 0.7429365005453336 , reweight of 1.3460100550531244 \n",
      "\n",
      "2 -th item is: placeholder \n",
      " it has entropy of: 3.123472626310646 , difficulty of: 0.6861689379225671 , reweight of 1.457367048743976 \n",
      "\n",
      "3 -th item is: placeholder \n",
      " it has entropy of: 3.8204204241522297 , difficulty of: 0.7885671478025259 , reweight of 1.2681228260480633 \n",
      "\n",
      "4 -th item is: placeholder \n",
      " it has entropy of: 3.7114946554226798 , difficulty of: 0.7716095423286693 , reweight of 1.2959922669982316 \n",
      "\n"
     ]
    }
   ],
   "source": [
    "%matplotlib inline\n",
    "num_words = 150\n",
    "\n",
    "exp_list = exp_text[0].as_list()[:num_words]\n",
    "exp_list_value = [v for (k, v) in exp_list]\n",
    "exp_list_value_abs = np.array([abs(v) for v in exp_list_value])\n",
    "\n",
    "entropy_max = entropy(exp_list_value_abs)[1]\n",
    "print('max entropy is:', entropy_max)\n",
    "\n",
    "for idx, exp in enumerate(exp_text):\n",
    "    if idx >= 5:\n",
    "        break\n",
    "    exp_list = exp.as_list()[:num_words]\n",
    "    exp_list_value = [v for (k, v) in exp_list]\n",
    "    exp_list_value_abs = np.array([abs(v) for v in exp_list_value])\n",
    "    \n",
    "    print(idx,'-th item is:', 'placeholder', '\\n',\n",
    "          'it has entropy of:', entropy(exp_list_value_abs)[0], \n",
    "          ', difficulty of:', difficulty(exp_list_value_abs), \n",
    "          ', reweight of', lr_reweight(exp_list_value_abs) , '\\n')"
   ]
  },
  {
   "cell_type": "markdown",
   "metadata": {},
   "source": [
    "# test the max entropy with increasing bins"
   ]
  },
  {
   "cell_type": "code",
   "execution_count": 140,
   "metadata": {},
   "outputs": [
    {
     "data": {
      "image/png": "[encoded data removed]",
      "text/plain": [
       "<matplotlib.figure.Figure at 0xedc3c50>"
      ]
     },
     "metadata": {},
     "output_type": "display_data"
    }
   ],
   "source": [
    "entropy_max = []\n",
    "for ib in range(2, 50000, 100):\n",
    "    pdf = np.ones(ib) * 1/ib\n",
    "    entropy_max.append(stats.entropy(np.ones(ib) / ib))\n",
    "plt.plot(entropy_max)\n",
    "plt.xticks([0, 100, 200, 300, 400, 500], [0, 10000, 20000, 30000, 40000, 50000])\n",
    "plt.xlabel('# of bins')\n",
    "plt.ylabel('max entropy')\n",
    "plt.show()"
   ]
  },
  {
   "cell_type": "code",
   "execution_count": null,
   "metadata": {},
   "outputs": [],
   "source": []
  }
 ],
 "metadata": {
  "kernelspec": {
   "display_name": "Python 3",
   "language": "python",
   "name": "python3"
  },
  "language_info": {
   "codemirror_mode": {
    "name": "ipython",
    "version": 3
   },
   "file_extension": ".py",
   "mimetype": "text/x-python",
   "name": "python",
   "nbconvert_exporter": "python",
   "pygments_lexer": "ipython3",
   "version": "3.6.8"
  },
  "latex_envs": {
   "LaTeX_envs_menu_present": true,
   "autoclose": false,
   "autocomplete": true,
   "bibliofile": "biblio.bib",
   "cite_by": "apalike",
   "current_citInitial": 1,
   "eqLabelWithNumbers": true,
   "eqNumInitial": 1,
   "hotkeys": {
    "equation": "Ctrl-E",
    "itemize": "Ctrl-I"
   },
   "labels_anchors": false,
   "latex_user_defs": false,
   "report_style_numbering": false,
   "user_envs_cfg": false
  }
 },
 "nbformat": 4,
 "nbformat_minor": 2
}
