{
 "cells": [
  {
   "cell_type": "code",
   "execution_count": 2,
   "metadata": {
    "ExecuteTime": {
     "end_time": "2019-01-15T22:53:37.447210Z",
     "start_time": "2019-01-15T22:53:37.047862Z"
    }
   },
   "outputs": [],
   "source": [
    "from __future__ import print_function\n",
    "import os\n",
    "import cv2\n",
    "import time\n",
    "import json\n",
    "import pickle\n",
    "import pandas as pd\n",
    "import scipy.io as sio\n",
    "import scipy.stats as stats\n",
    "import matplotlib.pyplot as plt\n",
    "import numpy as np"
   ]
  },
  {
   "cell_type": "code",
   "execution_count": 3,
   "metadata": {
    "ExecuteTime": {
     "end_time": "2019-01-15T22:53:38.445968Z",
     "start_time": "2019-01-15T22:53:38.437670Z"
    }
   },
   "outputs": [],
   "source": [
    "def entropy(exp): # entropy of the explanation\n",
    "    if exp.ndim == 2: # 2-d explanation. e.g. image explanation\n",
    "        exp_vec = [item for exp_list in exp for item in exp_list]\n",
    "    else:  # 1-d explanation. e.g., text explanation\n",
    "        exp_vec = exp\n",
    "    \n",
    "    exp_vec = np.array(exp_vec)\n",
    "    num_entries = exp_vec.size\n",
    "    entropy_max = stats.entropy(np.ones(num_entries) / num_entries)\n",
    "    if sum(exp_vec) == 0:\n",
    "        exp_entropy = entropy_max\n",
    "    else:\n",
    "        exp_entropy = stats.entropy(exp_vec)\n",
    "    \n",
    "    return exp_entropy, entropy_max\n",
    "\n",
    "def difficulty(exp): # intepretable difficulty of an explanation\n",
    "    exp_entropy, entropy_max = entropy(exp)\n",
    "    return np.exp((exp_entropy - entropy_max)/entropy_max)\n",
    "\n",
    "def lr_reweight(exp):\n",
    "    return 1/difficulty(exp)"
   ]
  },
  {
   "cell_type": "markdown",
   "metadata": {},
   "source": [
    "# illustrate the learning rate reweight on CAT"
   ]
  },
  {
   "cell_type": "code",
   "execution_count": 4,
   "metadata": {
    "ExecuteTime": {
     "end_time": "2019-01-15T22:55:00.507082Z",
     "start_time": "2019-01-15T22:55:00.206890Z"
    }
   },
   "outputs": [
    {
     "name": "stdout",
     "output_type": "stream",
     "text": [
      "0 -th item is: 62PRESG3JZU8COX5TK47Q1ABVNFD90MYWILH_0003_domestic_heatmap.png \n",
      " it has entropy of: 9.9850444885 , difficulty of: 0.925474695658 , reweight of 1.0805265716 \n",
      "\n",
      "1 -th item is: KT9ANEOFGJ310754CRL86VSYZQDWUH2BMPXI_0005_domestic_heatmap.png \n",
      " it has entropy of: 7.67579043899 , difficulty of: 0.747659094982 , reweight of 1.33750797216 \n",
      "\n",
      "2 -th item is: K1ZWQLMO259C0HAVRFIB4US6D83GN7YEXTPJ_0006_domestic_heatmap.png \n",
      " it has entropy of: 9.53348537608 , difficulty of: 0.887657295706 , reweight of 1.12656089781 \n",
      "\n",
      "3 -th item is: ATYRM7L49XWEQPSUOK20VGDBZ86H3JI1FC5N_0007_domestic_heatmap.png \n",
      " it has entropy of: 8.65847945649 , difficulty of: 0.818719086659 , reweight of 1.22142016266 \n",
      "\n",
      "4 -th item is: QBW7VXRO1L0J9UMFGP5IHY48SDEK3N6TAZ2C_0012_domestic_heatmap.png \n",
      " it has entropy of: 10.4712919925 , difficulty of: 0.968000705899 , reweight of 1.0330570979 \n",
      "\n"
     ]
    }
   ],
   "source": [
    "# get the metadata\n",
    "meta_path = \"/home/arun/research/projects/crowdsourcing/kdd-2019/data/animal_breed_sdm/nameMapping_fullInfo_flipped0.2.mat\"\n",
    "data = sio.loadmat(meta_path)['nameMapping']\n",
    "rows = []\n",
    "for d in data:\n",
    "    rows.append([x[0] for x in d.tolist()])\n",
    "df = pd.DataFrame(rows, columns=['img_name','common_name','dataset','train_test','class','is_flipped'])\n",
    "df.head(3)\n",
    "\n",
    "# get the explanation of images\n",
    "datasets = df['dataset'].tolist()\n",
    "index_cat = [i for i,s in enumerate(datasets) if s == 'cat']\n",
    "filenames = df['common_name'].tolist()\n",
    "filenames_cat = [filenames[i] for i in index_cat]\n",
    "exp_path = \"/home/arun/Dropbox (ASU)/code_for_Arun/gradCAM/results_resnet34_cat_flipped0.2/results_all/\"\n",
    "pred_class = \"domestic\"\n",
    "\n",
    "\n",
    "# calculate the learning rate reweight\n",
    "for idx, filename in enumerate(filenames_cat):\n",
    "    if idx >= 5:\n",
    "        break\n",
    "    expname = filename + \"_\" + pred_class + \"_heatmap.png\"\n",
    "    exp = cv2.imread(exp_path + expname, 0)\n",
    "    \n",
    "    print(idx,'-th item is:', expname, '\\n',\n",
    "          'it has entropy of:', entropy(exp)[0], \n",
    "          ', difficulty of:', difficulty(exp), \n",
    "          ', reweight of', lr_reweight(exp) , '\\n')"
   ]
  },
  {
   "cell_type": "markdown",
   "metadata": {},
   "source": [
    "# illustrate the learning rate reweight on comp.vs.sci"
   ]
  },
  {
   "cell_type": "code",
   "execution_count": 8,
   "metadata": {
    "ExecuteTime": {
     "end_time": "2019-01-15T22:56:32.650421Z",
     "start_time": "2019-01-15T22:56:31.772842Z"
    }
   },
   "outputs": [],
   "source": [
    "from lime.lime_text import LimeTextExplainer\n",
    "# get the explanation of text\n",
    "exp_path = \"/home/arun/Dropbox (ASU)/code_for_Arun/text_data/comp_vs_sci_flipped0.3/explanation_train_10.pickle\"\n",
    "exp_text = pickle.load( open(exp_path, \"rb\" ) )\n"
   ]
  },
  {
   "cell_type": "code",
   "execution_count": 14,
   "metadata": {
    "ExecuteTime": {
     "end_time": "2019-01-15T22:57:16.335187Z",
     "start_time": "2019-01-15T22:57:16.317452Z"
    }
   },
   "outputs": [
    {
     "name": "stdout",
     "output_type": "stream",
     "text": [
      "max entropy is: 2.30258509299\n",
      "0 -th item is: placeholder \n",
      " it has entropy of: 2.28837176453 , difficulty of: 0.993846242284 , reweight of 1.00619186093 \n",
      "\n",
      "1 -th item is: placeholder \n",
      " it has entropy of: 2.22096051437 , difficulty of: 0.965171856287 , reweight of 1.03608491429 \n",
      "\n",
      "2 -th item is: placeholder \n",
      " it has entropy of: 1.92293657424 , difficulty of: 0.847996087703 , reweight of 1.17925072356 \n",
      "\n",
      "3 -th item is: placeholder \n",
      " it has entropy of: 2.18931319631 , difficulty of: 0.951997034054 , reweight of 1.05042344065 \n",
      "\n",
      "4 -th item is: placeholder \n",
      " it has entropy of: 2.21840383391 , difficulty of: 0.964100770327 , reweight of 1.0372359724 \n",
      "\n"
     ]
    }
   ],
   "source": [
    "%matplotlib inline\n",
    "num_words = 150\n",
    "\n",
    "exp_list = exp_text[0].as_list()[:num_words]\n",
    "exp_list_value = [v for (k, v) in exp_list]\n",
    "exp_list_value_abs = np.array([abs(v) for v in exp_list_value])\n",
    "\n",
    "entropy_max = entropy(exp_list_value_abs)[1]\n",
    "print('max entropy is:', entropy_max)\n",
    "\n",
    "for idx, exp in enumerate(exp_text):\n",
    "    if idx >= 5:\n",
    "        break\n",
    "    exp_list = exp.as_list()[:num_words]\n",
    "    exp_list_value = [v for (k, v) in exp_list]\n",
    "    exp_list_value_abs = np.array([abs(v) for v in exp_list_value])\n",
    "    \n",
    "    print(idx,'-th item is:', 'placeholder', '\\n',\n",
    "          'it has entropy of:', entropy(exp_list_value_abs)[0], \n",
    "          ', difficulty of:', difficulty(exp_list_value_abs), \n",
    "          ', reweight of', lr_reweight(exp_list_value_abs) , '\\n')"
   ]
  },
  {
   "cell_type": "markdown",
   "metadata": {},
   "source": [
    "# test the max entropy with increasing bins"
   ]
  },
  {
   "cell_type": "code",
   "execution_count": 15,
   "metadata": {
    "ExecuteTime": {
     "end_time": "2019-01-15T22:57:24.921227Z",
     "start_time": "2019-01-15T22:57:24.528422Z"
    }
   },
   "outputs": [
    {
     "data": {
      "image/png": "[encoded data removed]",
      "text/plain": [
       "<matplotlib.figure.Figure at 0x7f6e1bd80438>"
      ]
     },
     "metadata": {
      "needs_background": "light"
     },
     "output_type": "display_data"
    }
   ],
   "source": [
    "entropy_max = []\n",
    "for ib in range(2, 50000, 100):\n",
    "    pdf = np.ones(ib) * 1/ib\n",
    "    entropy_max.append(stats.entropy(np.ones(ib) / ib))\n",
    "plt.plot(entropy_max)\n",
    "plt.xticks([0, 100, 200, 300, 400, 500], [0, 10000, 20000, 30000, 40000, 50000])\n",
    "plt.xlabel('# of bins')\n",
    "plt.ylabel('max entropy')\n",
    "plt.show()"
   ]
  }
 ],
 "metadata": {
  "kernelspec": {
   "display_name": "Python 3",
   "language": "python",
   "name": "python3"
  },
  "language_info": {
   "codemirror_mode": {
    "name": "ipython",
    "version": 3
   },
   "file_extension": ".py",
   "mimetype": "text/x-python",
   "name": "python",
   "nbconvert_exporter": "python",
   "pygments_lexer": "ipython3",
   "version": "3.6.8"
  },
  "latex_envs": {
   "LaTeX_envs_menu_present": true,
   "autoclose": false,
   "autocomplete": true,
   "bibliofile": "biblio.bib",
   "cite_by": "apalike",
   "current_citInitial": 1,
   "eqLabelWithNumbers": true,
   "eqNumInitial": 1,
   "hotkeys": {
    "equation": "Ctrl-E",
    "itemize": "Ctrl-I"
   },
   "labels_anchors": false,
   "latex_user_defs": false,
   "report_style_numbering": false,
   "user_envs_cfg": false
  }
 },
 "nbformat": 4,
 "nbformat_minor": 2
}
