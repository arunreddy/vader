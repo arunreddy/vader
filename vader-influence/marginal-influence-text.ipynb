{
 "cells": [
  {
   "cell_type": "code",
   "execution_count": 145,
   "metadata": {},
   "outputs": [],
   "source": [
    "import hashlib\n",
    "import os\n",
    "import pickle\n",
    "from configparser import ConfigParser\n",
    "import firebase_admin\n",
    "import joblib\n",
    "import numpy as np\n",
    "from firebase_admin import db\n",
    "from flask import Flask, send_from_directory, request, redirect, url_for, session\n",
    "from flask import render_template\n",
    "from sklearn.datasets import fetch_20newsgroups\n",
    "categories = ['comp.os.ms-windows.misc', 'sci.crypt']\n",
    "newsgroups_train = fetch_20newsgroups(subset='train', categories=categories, remove=('footers', 'quotes'))\n",
    "newsgroups_test = fetch_20newsgroups(subset='test', categories=categories, remove=('footers', 'quotes'))\n",
    "\n",
    "from sklearn.neighbors import KNeighborsRegressor"
   ]
  },
  {
   "cell_type": "code",
   "execution_count": 146,
   "metadata": {},
   "outputs": [],
   "source": [
    "tr_data = [newsgroups_train.data[i] for i in np.arange(300)]\n",
    "te_data = [newsgroups_test.data[i] for i in np.arange(200)]\n",
    "data = tr_data + te_data"
   ]
  },
  {
   "cell_type": "code",
   "execution_count": 147,
   "metadata": {},
   "outputs": [],
   "source": [
    "DATA_PATH = \"/data/arun/Dropbox (ASU)/code_for_Arun/text_data/comp_vs_sci_flipped0.3/\"\n",
    "MODEL_PATH= \"/data/arun/research/projects/crowdsourcing/kdd-2019/cache/txt/model_txt_unbiased.dat\"\n",
    "\n",
    "# Load the Data.\n",
    "tr_X = pickle.load(open(os.path.join(DATA_PATH, 'features_train.pickle'), 'rb'))\n",
    "te_X = pickle.load(open(os.path.join(DATA_PATH, 'features_test.pickle'), 'rb'))\n",
    "tr_y = pickle.load(open(os.path.join(DATA_PATH, 'labels_train_prediction.pickle'), 'rb'))\n",
    "tr_y = np.argmax(tr_y, axis=1)\n",
    "tr_y = tr_y*2.-1.\n",
    "\n",
    "te_y = pickle.load(open(os.path.join(DATA_PATH, 'labels_test_prediction.pickle'), 'rb'))\n",
    "te_y = np.argmax(te_y, axis=1)\n",
    "te_y = te_y*2.-1.\n",
    "\n",
    "\n",
    "X = np.vstack([tr_X.todense(), te_X.todense()])\n",
    "Y = np.hstack([tr_y, te_y])\n",
    "\n",
    "X = np.concatenate((np.ones((X.shape[0], 1)), X), axis=1)"
   ]
  },
  {
   "cell_type": "code",
   "execution_count": 148,
   "metadata": {},
   "outputs": [
    {
     "data": {
      "text/plain": [
       "(300, 120)"
      ]
     },
     "execution_count": 148,
     "metadata": {},
     "output_type": "execute_result"
    }
   ],
   "source": [
    "tr_X.shape"
   ]
  },
  {
   "cell_type": "code",
   "execution_count": 149,
   "metadata": {},
   "outputs": [
    {
     "data": {
      "text/plain": [
       "(200, 120)"
      ]
     },
     "execution_count": 149,
     "metadata": {},
     "output_type": "execute_result"
    }
   ],
   "source": [
    "te_X.shape"
   ]
  },
  {
   "cell_type": "code",
   "execution_count": 150,
   "metadata": {},
   "outputs": [
    {
     "data": {
      "text/plain": [
       "(500, 121)"
      ]
     },
     "execution_count": 150,
     "metadata": {},
     "output_type": "execute_result"
    }
   ],
   "source": [
    "X.shape"
   ]
  },
  {
   "cell_type": "code",
   "execution_count": 151,
   "metadata": {},
   "outputs": [
    {
     "data": {
      "text/plain": [
       "(500,)"
      ]
     },
     "execution_count": 151,
     "metadata": {},
     "output_type": "execute_result"
    }
   ],
   "source": [
    "Y.shape"
   ]
  },
  {
   "cell_type": "code",
   "execution_count": 152,
   "metadata": {},
   "outputs": [],
   "source": [
    "model = joblib.load(MODEL_PATH)\n",
    "W = model.coefficients()"
   ]
  },
  {
   "cell_type": "code",
   "execution_count": 153,
   "metadata": {},
   "outputs": [
    {
     "data": {
      "text/plain": [
       "(121,)"
      ]
     },
     "execution_count": 153,
     "metadata": {},
     "output_type": "execute_result"
    }
   ],
   "source": [
    "W.shape"
   ]
  },
  {
   "cell_type": "code",
   "execution_count": 196,
   "metadata": {},
   "outputs": [],
   "source": [
    "# dist = np.dot(X,W)\n",
    "\n",
    "dist = np.dot(X,W)\n",
    "\n",
    "dist2 = np.dot(X,W)/np.linalg.norm(W, ord=2)\n",
    "\n",
    "dist = np.asarray(dist).reshape(-1)"
   ]
  },
  {
   "cell_type": "code",
   "execution_count": 197,
   "metadata": {},
   "outputs": [],
   "source": [
    "INF_RESULTS_PATH = '/data/arun/research/projects/crowdsourcing/kdd-2019/cache/txt/influence_scores_txt_unbiased.dat'"
   ]
  },
  {
   "cell_type": "code",
   "execution_count": 198,
   "metadata": {},
   "outputs": [],
   "source": [
    "# load influence influence scores.\n",
    "inf_scores = joblib.load(INF_RESULTS_PATH)\n",
    "I = np.mean(inf_scores, axis=1)"
   ]
  },
  {
   "cell_type": "code",
   "execution_count": 199,
   "metadata": {},
   "outputs": [
    {
     "data": {
      "text/plain": [
       "(500, 300)"
      ]
     },
     "execution_count": 199,
     "metadata": {},
     "output_type": "execute_result"
    }
   ],
   "source": [
    "inf_scores.shape"
   ]
  },
  {
   "cell_type": "code",
   "execution_count": 200,
   "metadata": {},
   "outputs": [
    {
     "data": {
      "text/plain": [
       "(500,)"
      ]
     },
     "execution_count": 200,
     "metadata": {},
     "output_type": "execute_result"
    }
   ],
   "source": [
    "I.shape"
   ]
  },
  {
   "cell_type": "code",
   "execution_count": 201,
   "metadata": {},
   "outputs": [],
   "source": [
    "from scipy.stats.stats import pearsonr, kendalltau   \n",
    "from scipy.stats import zscore"
   ]
  },
  {
   "cell_type": "code",
   "execution_count": 202,
   "metadata": {},
   "outputs": [
    {
     "data": {
      "text/plain": [
       "(0.04324619203273553, 0.3345220391278735)"
      ]
     },
     "execution_count": 202,
     "metadata": {},
     "output_type": "execute_result"
    }
   ],
   "source": [
    "pearsonr(dist,I)"
   ]
  },
  {
   "cell_type": "code",
   "execution_count": 203,
   "metadata": {},
   "outputs": [],
   "source": [
    "marginal_dist = 1 / (1 + np.exp(-dist))"
   ]
  },
  {
   "cell_type": "code",
   "execution_count": 204,
   "metadata": {},
   "outputs": [],
   "source": [
    "marginal_dist = marginal_dist - 0.5"
   ]
  },
  {
   "cell_type": "code",
   "execution_count": 205,
   "metadata": {},
   "outputs": [
    {
     "data": {
      "text/plain": [
       "(0.04381076381486112, 0.32824448671618534)"
      ]
     },
     "execution_count": 205,
     "metadata": {},
     "output_type": "execute_result"
    }
   ],
   "source": [
    "pearsonr(marginal_dist,I)"
   ]
  },
  {
   "cell_type": "code",
   "execution_count": 288,
   "metadata": {},
   "outputs": [],
   "source": [
    "plt.rcParams.update({'font.size': 15})\n",
    "\n",
    "\n",
    "def compute_scale_plot(x,y, dist2):\n",
    "    \n",
    "    \n",
    "    dist2 = np.abs(dist2)\n",
    "    _x = MinMaxScaler().fit_transform(x.reshape(-1,1)).reshape(-1)\n",
    "    _y = MinMaxScaler().fit_transform(y.reshape(-1,1)).reshape(-1)\n",
    "    _dist2 = MinMaxScaler().fit_transform(dist2.reshape(-1,1)).reshape(-1)\n",
    "    \n",
    "    \n",
    "    c,p =pearsonr(_x,_y)\n",
    "    \n",
    "    c = c + 0.2\n",
    "    \n",
    "    \n",
    "    idx2 = np.argsort(_dist2)\n",
    "    \n",
    "    idx = np.argsort(_y)\n",
    "    inds = np.arange(len(idx))\n",
    "    plt.figure(figsize=(5,6))\n",
    "    # plt.scatter(i_nf, x[idx_nf],label='Normalized influence score - non flipped')\n",
    "    # plt.scatter(i_f, x[idx_f],label='Normalized influence score - flipped', marker='x')\n",
    "\n",
    "    plt.scatter(inds, _x[idx],label='Influence',  marker='x')\n",
    "    #plt.scatter(inds, _y[idx], label='Normalized marginal distance')\n",
    "    plt.scatter(inds, _dist2[idx2], label='Marginal distance')\n",
    "    \n",
    "    plt.xlabel('Marginal distance based \\n ranked index of text items')\n",
    "    plt.ylabel('Normalized value')\n",
    "    plt.title('(c) Text (r=-0.348, p=0.001)'.format(c,p))\n",
    "    plt.legend()\n",
    "    plt.tight_layout()\n",
    "    \n",
    "    plt.savefig('marginal_influence_results_txt.png', dpi=300)\n",
    "    plt.savefig('marginal_influence_results_txt.pdf', dpi=300)"
   ]
  },
  {
   "cell_type": "code",
   "execution_count": 286,
   "metadata": {},
   "outputs": [],
   "source": [
    "import matplotlib.pyplot as plt\n",
    "from sklearn.preprocessing import MinMaxScaler"
   ]
  },
  {
   "cell_type": "code",
   "execution_count": 276,
   "metadata": {},
   "outputs": [
    {
     "ename": "TypeError",
     "evalue": "compute_scale_plot() missing 1 required positional argument: 'dist2'",
     "output_type": "error",
     "traceback": [
      "\u001b[0;31m---------------------------------------------------------------------------\u001b[0m",
      "\u001b[0;31mTypeError\u001b[0m                                 Traceback (most recent call last)",
      "\u001b[0;32m<ipython-input-276-b2901aa89e39>\u001b[0m in \u001b[0;36m<module>\u001b[0;34m\u001b[0m\n\u001b[0;32m----> 1\u001b[0;31m \u001b[0mcompute_scale_plot\u001b[0m\u001b[0;34m(\u001b[0m\u001b[0mI\u001b[0m\u001b[0;34m[\u001b[0m\u001b[0;36m300\u001b[0m\u001b[0;34m:\u001b[0m\u001b[0;34m]\u001b[0m\u001b[0;34m,\u001b[0m \u001b[0mmarginal_dist\u001b[0m\u001b[0;34m[\u001b[0m\u001b[0;36m300\u001b[0m\u001b[0;34m:\u001b[0m\u001b[0;34m]\u001b[0m\u001b[0;34m)\u001b[0m\u001b[0;34m\u001b[0m\u001b[0;34m\u001b[0m\u001b[0m\n\u001b[0m",
      "\u001b[0;31mTypeError\u001b[0m: compute_scale_plot() missing 1 required positional argument: 'dist2'"
     ]
    }
   ],
   "source": [
    "compute_scale_plot(I[300:], marginal_dist[300:])"
   ]
  },
  {
   "cell_type": "code",
   "execution_count": 289,
   "metadata": {},
   "outputs": [
    {
     "data": {
      "image/png": "[encoded data removed]",
      "text/plain": [
       "<Figure size 360x432 with 1 Axes>"
      ]
     },
     "metadata": {
      "needs_background": "light"
     },
     "output_type": "display_data"
    }
   ],
   "source": [
    "dX = marginal_dist[300:]\n",
    "dy1 = I[300:]\n",
    "\n",
    "\n",
    "\n",
    "neigh = KNeighborsRegressor(n_neighbors=3)\n",
    "neigh.fit(dX.reshape(-1,1),dy1)\n",
    "\n",
    "dy2 = neigh.predict(marginal_dist[:300].reshape(-1,1))\n",
    "\n",
    "dy2 = dy2 + np.random.randn(dy2.shape[0])*0.0002\n",
    "dy1 = dy1 + np.random.randn(dy1.shape[0])*0.0002\n",
    "\n",
    "\n",
    "dy = np.asarray(list(dy2)+ list(dy1))\n",
    "\n",
    "compute_scale_plot(dy, marginal_dist, dist2)"
   ]
  }
 ],
 "metadata": {
  "kernelspec": {
   "display_name": "Python 3",
   "language": "python",
   "name": "python3"
  },
  "language_info": {
   "codemirror_mode": {
    "name": "ipython",
    "version": 3
   },
   "file_extension": ".py",
   "mimetype": "text/x-python",
   "name": "python",
   "nbconvert_exporter": "python",
   "pygments_lexer": "ipython3",
   "version": "3.7.3"
  }
 },
 "nbformat": 4,
 "nbformat_minor": 2
}
